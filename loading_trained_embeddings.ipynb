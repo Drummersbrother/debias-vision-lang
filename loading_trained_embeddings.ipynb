{
 "cells": [
  {
   "cell_type": "code",
   "execution_count": null,
   "metadata": {},
   "outputs": [],
   "source": [
    "import os\n",
    "import torch\n",
    "import src.data_utils\n",
    "\n",
    "use_device = torch.device(\"cuda\")\n"
   ]
  },
  {
   "cell_type": "code",
   "execution_count": null,
   "metadata": {
    "pycharm": {
     "name": "#%%\n"
    }
   },
   "outputs": [],
   "source": [
    "clip_arch = \"openai/CLIP/ViT-B/16\"\n",
    "n_debias_tokens = 2\n",
    "debias_class = \"gender\" # Gender or race\n",
    "\n",
    "model, preprocess, tokenizer, model_alias = src.models.DebiasCLIP.from_cfg(src.Dotdict({\n",
    "    \"CLIP_ARCH\": clip_arch, \"DEVICE\": use_device, \"num_debias_tokens\": n_debias_tokens\n",
    "}))\n",
    "model.debias_tokens.load_state_dict(\n",
    "    torch.load(os.path.join(src.PATHS.TRAINED_MODELS.EMBEDDINGS, f\"{debias_class}_{n_debias_tokens}.pth\"), map_location=use_device),\n",
    "    strict=True)\n",
    "model = model.eval().to(use_device)"
   ]
  },
  {
   "cell_type": "code",
   "execution_count": null,
   "metadata": {
    "pycharm": {
     "name": "#%%\n"
    }
   },
   "outputs": [],
   "source": [
    "model"
   ]
  }
 ],
 "metadata": {
  "kernelspec": {
   "display_name": "Python 3",
   "language": "python",
   "name": "python3"
  },
  "language_info": {
   "codemirror_mode": {
    "name": "ipython",
    "version": 2
   },
   "file_extension": ".py",
   "mimetype": "text/x-python",
   "name": "python",
   "nbconvert_exporter": "python",
   "pygments_lexer": "ipython2",
   "version": "2.7.6"
  }
 },
 "nbformat": 4,
 "nbformat_minor": 0
}
