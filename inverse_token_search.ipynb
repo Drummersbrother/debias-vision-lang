{
 "cells": [
  {
   "cell_type": "code",
   "execution_count": null,
   "metadata": {},
   "outputs": [],
   "source": [
    "from importlib import reload\n",
    "import os\n",
    "import json\n",
    "\n",
    "import numpy as np\n",
    "import torch\n",
    "from torch.utils.data import DataLoader, Dataset\n",
    "import pandas as pd\n",
    "import matplotlib.pyplot as plt\n",
    "from itertools import product as iter_product\n",
    "\n",
    "import src, src.debias, src.models, src.ranking, src.datasets, src.data_utils\n",
    "\n",
    "if torch.cuda.device_count() > 1:\n",
    "    use_device_id = int(input(f\"Choose cuda index, from [0-{torch.cuda.device_count() - 1}]: \").strip())\n",
    "else:\n",
    "    use_device_id = 0\n",
    "use_device = \"cuda:\" + str(use_device_id) if torch.cuda.is_available() else \"cpu\"\n",
    "if not torch.cuda.is_available():\n",
    "    input(\"CUDA isn't available, so using cpu. Please press any key to confirm this isn't an error: \\n\")\n",
    "print(\"Using device\", use_device)\n",
    "torch.cuda.set_device(use_device_id)\n",
    "\n",
    "\n",
    "with open(src.PATHS.TRAINED_MODELS.METADATA, mode=\"r\") as _runs_metafile:\n",
    "    runs_metadata = json.load(_runs_metafile)\n",
    "\n",
    "clip_arch = \"openai/CLIP/ViT-B/16\"\n",
    "\n",
    "run_metadata = runs_metadata[\"91\"]\n",
    "model_save_name = f\"best_ndkl_oai-clip-vit-b-16_neptune_run_OXVLB-91_model_e{run_metadata['epoch']}_step_{run_metadata['step']}.pt\"\n",
    "n_debias_tokens = 2\n",
    "\n",
    "with torch.cuda.device(use_device_id):\n",
    "    model, preprocess, tokenizer, model_alias = src.models.DebiasCLIP.from_cfg(src.Dotdict({\n",
    "        \"CLIP_ARCH\": clip_arch, \"DEVICE\": use_device, \"num_debias_tokens\": n_debias_tokens\n",
    "    }))\n",
    "    model.load_state_dict(\n",
    "        torch.load(os.path.join(src.PATHS.TRAINED_MODELS.BASE, model_save_name), map_location=use_device),\n",
    "        strict=True)\n",
    "    model = model.eval().to(use_device)"
   ]
  },
  {
   "cell_type": "code",
   "execution_count": null,
   "metadata": {
    "pycharm": {
     "name": "#%%\n"
    }
   },
   "outputs": [],
   "source": [
    "from tqdm import tqdm, trange\n",
    "max_tok = tokenizer(\"\")[0][0].item()\n",
    "embeddings = []\n",
    "offset = 0\n",
    "\n",
    "for i in trange(offset, max_tok):\n",
    "    embeddings.append(model.clip.token_embedding(torch.tensor(i, device=use_device)))\n",
    "embeddings = torch.stack(embeddings)"
   ]
  },
  {
   "cell_type": "code",
   "execution_count": null,
   "metadata": {
    "pycharm": {
     "is_executing": true,
     "name": "#%%\n"
    }
   },
   "outputs": [],
   "source": [
    "\n",
    "use_cos_dist = False\n",
    "db_embeddings = model.debias_tokens.weight.detach()\n",
    "if use_cos_dist:\n",
    "    _embeddings = embeddings / torch.norm(embeddings, dim=-1, keepdim=True)\n",
    "    _db_embeddings = db_embeddings / torch.norm(db_embeddings, dim=-1, keepdim=True)\n",
    "    dists = _db_embeddings @ _embeddings.T\n",
    "else:\n",
    "    dists = torch.cdist(db_embeddings, embeddings, p=2)\n",
    "\n",
    "closest_inxs = []\n",
    "for dist_row in dists:\n",
    "    if use_cos_dist:\n",
    "        closest_inx = dist_row.topk(1000).indices.cpu()\n",
    "    else:\n",
    "        closest_inx = (-dist_row).topk(1000).indices.cpu()\n",
    "    closest_inxs.append((closest_inx+offset).tolist())\n"
   ]
  },
  {
   "cell_type": "code",
   "execution_count": null,
   "metadata": {
    "pycharm": {
     "name": "#%%\n"
    }
   },
   "outputs": [],
   "source": [
    "\n",
    "from clip import simple_tokenizer\n",
    "raw_tkz = simple_tokenizer.SimpleTokenizer()\n",
    "for inx, tops in enumerate(closest_inxs):\n",
    "    print(f\"For debias token {inx}:\")\n",
    "    max_alpha = 10\n",
    "    n_alpha = 0\n",
    "    for top in tops:\n",
    "        inv = raw_tkz.decode([top])\n",
    "        if n_alpha == max_alpha: break\n",
    "        if top==0 or inv.isalpha():\n",
    "            print(f\"token: {inv}, dist: {dists[inx][top-offset].item():.4f}\")\n",
    "            n_alpha += 1"
   ]
  },
  {
   "cell_type": "code",
   "execution_count": null,
   "metadata": {
    "pycharm": {
     "is_executing": true,
     "name": "#%%\n"
    }
   },
   "outputs": [],
   "source": [
    "\n",
    "import time\n",
    "import numpy as np\n",
    "import pandas as pd\n",
    "from sklearn.decomposition import PCA\n",
    "from sklearn.manifold import TSNE\n",
    "import matplotlib.pyplot as plt\n",
    "from mpl_toolkits.mplot3d import Axes3D\n",
    "import seaborn as sns\n",
    "\n",
    "pca = PCA(n_components=3)\n",
    "pca_res = pca.fit_transform(embeddings.cpu().numpy())\n",
    "token_words = [raw_tkz.decode([i]) for i in range(offset, max_tok)]\n",
    "\n",
    "print('Explained variation per principal component: {}'.format(pca.explained_variance_ratio_))"
   ]
  },
  {
   "cell_type": "code",
   "execution_count": null,
   "metadata": {
    "pycharm": {
     "is_executing": true,
     "name": "#%%\n"
    }
   },
   "outputs": [],
   "source": [
    "\n",
    "cols = [\"x\", \"y\", \"z\"]\n",
    "df = pd.DataFrame(data=pca_res, columns=cols)\n",
    "sns.scatterplot(\n",
    "    x=\"x\", y=\"y\",\n",
    "    palette=sns.color_palette(\"hls\", 10),\n",
    "    legend=\"full\",\n",
    "    data=df,\n",
    "    alpha=0.01\n",
    ")"
   ]
  },
  {
   "cell_type": "code",
   "execution_count": null,
   "metadata": {
    "pycharm": {
     "is_executing": true,
     "name": "#%%\n"
    }
   },
   "outputs": [],
   "source": [
    "\n",
    "tsne = TSNE(n_components=2, verbose=1, perplexity=40, n_iter=300)\n",
    "tsne_results = tsne.fit_transform(embeddings.cpu().numpy())"
   ]
  },
  {
   "cell_type": "code",
   "execution_count": null,
   "metadata": {
    "pycharm": {
     "is_executing": true,
     "name": "#%%\n"
    }
   },
   "outputs": [],
   "source": [
    "\n",
    "df['tsne-2d-one'] = tsne_results[:,0]\n",
    "df['tsne-2d-two'] = tsne_results[:,1]\n",
    "plt.figure(figsize=(16,10))\n",
    "sns.scatterplot(\n",
    "    x=\"tsne-2d-one\", y=\"tsne-2d-two\",\n",
    "    palette=sns.color_palette(\"hls\", 10),\n",
    "    data=df,\n",
    "    legend=\"full\",\n",
    "    alpha=0.3\n",
    ")"
   ]
  }
 ],
 "metadata": {
  "kernelspec": {
   "display_name": "Python 3",
   "language": "python",
   "name": "python3"
  },
  "language_info": {
   "codemirror_mode": {
    "name": "ipython",
    "version": 2
   },
   "file_extension": ".py",
   "mimetype": "text/x-python",
   "name": "python",
   "nbconvert_exporter": "python",
   "pygments_lexer": "ipython2",
   "version": "2.7.6"
  }
 },
 "nbformat": 4,
 "nbformat_minor": 0
}