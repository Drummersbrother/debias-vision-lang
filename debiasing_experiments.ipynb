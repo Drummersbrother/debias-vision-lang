{
 "cells": [
  {
   "cell_type": "code",
   "execution_count": null,
   "metadata": {},
   "outputs": [],
   "source": [
    "from importlib import reload\n",
    "\n",
    "import numpy as np\n",
    "import torch\n",
    "import pandas as pd\n",
    "import matplotlib.pyplot as plt\n",
    "from itertools import product as iter_product\n",
    "\n",
    "import src, src.debias, src.models, src.ranking, src.datasets, src.data_utils\n",
    "\n",
    "if torch.cuda.device_count() > 1:\n",
    "    use_device_id = int(input(f\"Choose cuda index, from [0-{torch.cuda.device_count()-1}]: \").strip())\n",
    "else: use_device_id = 0\n",
    "use_device = \"cuda:\"+str(use_device_id) if torch.cuda.is_available() else \"cpu\"\n",
    "if not torch.cuda.is_available():\n",
    "    input(\"CUDA isn't available, so using cpu. Please press any key to confirm this isn't an error: \\n\")\n",
    "print(\"Using device\", use_device)\n",
    "torch.cuda.set_device(use_device_id)\n",
    "\n",
    "cfg = src.Dotdict()\n",
    "# training\n",
    "train_cfg = src.Dotdict()\n",
    "cfg.train = train_cfg\n",
    "train_cfg.NEPTUNE_PROJNAME = \"oxai-vlb-ht22/OxAI-Vision-Language-Bias\" # None if don't use\n",
    "train_cfg.N_EPOCHS = 10\n",
    "train_cfg.BATCH_SZ = 64\n",
    "train_cfg.NUM_WORKERS = 6 # 0 for auto\n",
    "train_cfg.LOG_EVERY = 10\n",
    "train_cfg.DEVICE = use_device\n",
    "#train_cfg.DATASET_NAME = \"FairFace\"\n",
    "train_cfg.DATASET_SUBSAMPLE = 1.0 # None or 1.0 for full\n",
    "train_cfg.PERF_STOPPING_DECREASE = 0.8\n",
    "train_cfg.PERF_EVALS = [\"cifar100\", \"flickr1k\"]#[\"flickr1k\", \"cifar100\"] # cifar100, flickr1k.\n",
    "train_cfg.EVAL_EVERY = 0.25 # In epochs\n",
    "train_cfg.BIAS_EVAL_SUBSAMPLE = 1.0\n",
    "#train_cfg.BIAS_EVAL_DATASET_NAME = \"FairFace\"\n",
    "train_cfg.BIAS_EVALS = [\"ndkl\", \"maxskew\"] # ndkl and min/maxskew supported\n",
    "\n",
    "# architecture\n",
    "debias_cfg = src.Dotdict()\n",
    "cfg.debias = debias_cfg\n",
    "debias_cfg.CLIP_ARCH = \"openai/CLIP/ViT-B/16\"\n",
    "debias_cfg.DEBIAS_TYPE = \"adv\"\n",
    "#debias_cfg.NUM_DEBIAS_TOKENS = 2\n",
    "#debias_cfg.N_TRAIN_TXT_LAYERS = 0\n",
    "#debias_cfg.N_TRAIN_VID_LAYERS = 0\n",
    "#debias_cfg.FREEZE_PROJ = True\n",
    "debias_cfg.DEBIAS_TOKEN_INIT = [\"the\"]  # how to initialize the debiasing tokens\n",
    "debias_cfg.DEBIAS_POS = \"prepend\" # Prepending or appending\n",
    "debias_cfg.DEVICE = use_device\n",
    "\n",
    "# bias prompts\n",
    "_train_prompts = [\"a photo of a {} person\"]\n",
    "_test_prompts = [\"a photo of a {} person\", \"a cropped photo of a {} face\"]\n",
    "_paired_prompts = [('good'       , 'evil'),\n",
    "                   ('smart'      , 'dumb'),\n",
    "                   ('attractive' , 'unattractive'),\n",
    "                   ('lawful'     , 'criminal'),\n",
    "                   ('friendly'   , 'unfriendly'),\n",
    "                   ('clever'     , 'stupid'),\n",
    "                   ('heroic'     , 'villainous'),\n",
    "                   ('hardworking', 'lazy'),\n",
    "                   ('trustworthy', 'dangerous'),\n",
    "                   ('caring'     , 'nasty')]\n",
    "_prompts_n_train = len(_paired_prompts)\n",
    "prompt_cfg = src.debias.prepare_prompt_cfg(debias_cfg.DEBIAS_CLASS, _paired_prompts, _train_prompts, _test_prompts, _prompts_n_train, test_on_train=False)\n",
    "\n",
    "# optimisation\n",
    "optim_cfg = src.Dotdict()\n",
    "cfg.optim = optim_cfg\n",
    "optim_cfg.CL_ADV_TRAIN_SWITCH = 10\n",
    "optim_cfg.ADV_HIDDEN_SIZE = 32\n",
    "optim_cfg.ADV_N_INPUT = prompt_cfg.N_TRAIN\n",
    "optim_cfg.ADV_DEVICE = use_device\n",
    "optim_cfg.ADV_LR = 0.00002\n",
    "optim_cfg.CL_LR = 2e-5 # 2e-6\n",
    "optim_cfg.L_REG_TYPE = 2 # 1, 2, is p for L_p loss\n",
    "optim_cfg.L_REG_WEIGHT = 0\n",
    "optim_cfg.N_ADV_INIT_EPOCHS = 0 # 2\n",
    "\n",
    "\n",
    "# [n_debias_tokens]\n",
    "all_combs = [\n",
    "    [1],\n",
    "]\n",
    "n_instances = torch.cuda.device_count()\n",
    "all_combs = list(map(list, np.array_split(all_combs, n_instances)))\n",
    "with torch.cuda.device(use_device_id):\n",
    "    # Note that all the parameters are strings here\n",
    "    for n_db_tkz in all_combs[use_device_id]:\n",
    "        print(f\"Experiment with: {n_db_tkz} tokens\")\n",
    "        debias_cfg.NUM_DEBIAS_TOKENS = int(n_db_tkz)\n",
    "        debias_cfg.FREEZE_PROJ = True\n",
    "        train_cfg.DATASET_NAME = \"FairFace\"\n",
    "        train_cfg.BIAS_EVAL_DATASET_NAME = \"FairFace\"\n",
    "        debias_cfg.DEBIAS_CLASS = \"gender\"\n",
    "        debias_cfg.N_TRAIN_TEXT_LAYERS = 0\n",
    "        debias_cfg.N_TRAIN_VID_LAYERS = 0\n",
    "        \"\"\"Train debiasing.\"\"\"\n",
    "        src.debias.run_debiasing(debias_cfg, train_cfg, prompt_cfg, optim_cfg)\n",
    "    \n"
   ]
  },
  {
   "cell_type": "code",
   "execution_count": null,
   "metadata": {
    "pycharm": {
     "name": "#%%\n"
    }
   },
   "outputs": [],
   "source": [
    "assert False, \"don't run following cells when running full notebook to train\""
   ]
  },
  {
   "cell_type": "code",
   "execution_count": null,
   "metadata": {
    "pycharm": {
     "name": "#%%\n"
    }
   },
   "outputs": [],
   "source": [
    "\n",
    "reload(src.debias)\n",
    "for bias_eval in train_cfg.BIAS_EVALS:\n",
    "    src.debias.plot_comparison_rankmetrics(prompt_cfg, debias_exp_res, bias_eval)"
   ]
  }
 ],
 "metadata": {
  "kernelspec": {
   "display_name": "Python 3",
   "language": "python",
   "name": "python3"
  },
  "language_info": {
   "codemirror_mode": {
    "name": "ipython",
    "version": 2
   },
   "file_extension": ".py",
   "mimetype": "text/x-python",
   "name": "python",
   "nbconvert_exporter": "python",
   "pygments_lexer": "ipython2",
   "version": "2.7.6"
  }
 },
 "nbformat": 4,
 "nbformat_minor": 0
}