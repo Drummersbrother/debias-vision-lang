{
 "cells": [
  {
   "cell_type": "code",
   "execution_count": null,
   "metadata": {},
   "outputs": [],
   "source": [
    "from importlib import reload\n",
    "# For cuda debugging\n",
    "import os\n",
    "import json\n",
    "#os.environ[\"CUDA_LAUNCH_BLOCKING\"] = \"1\"\n",
    "\n",
    "import numpy as np\n",
    "import torch\n",
    "from torch.utils.data import DataLoader, Dataset\n",
    "import pandas as pd\n",
    "import matplotlib.pyplot as plt\n",
    "from itertools import product as iter_product\n",
    "\n",
    "import src, src.debias, src.models, src.ranking, src.datasets, src.data_utils\n",
    "from src.models import model_loader\n",
    "\n",
    "if torch.cuda.device_count() > 1:\n",
    "    use_device_id = int(input(f\"Choose cuda index, from [0-{torch.cuda.device_count()-1}]: \").strip())\n",
    "else: use_device_id = 0\n",
    "use_device = \"cuda:\"+str(use_device_id) if torch.cuda.is_available() else \"cpu\"\n",
    "if not torch.cuda.is_available():\n",
    "    input(\"CUDA isn't available, so using cpu. Please press any key to confirm this isn't an error: \\n\")\n",
    "print(\"Using device\", use_device)\n",
    "torch.cuda.set_device(use_device_id)\n"
   ]
  },
  {
   "cell_type": "code",
   "execution_count": null,
   "metadata": {
    "pycharm": {
     "name": "#%%\n"
    }
   },
   "outputs": [],
   "source": [
    "perf_evaluations = [\"flickr1k\", \"cifar100\"] # flickr1k, cifar100, cifar10\n",
    "batch_sz = 256\n",
    "experiment_results = pd.DataFrame()\n",
    "db_tokensetting = [(0, \"prepend\"), (1, \"prepend\"), (2, \"prepend\"), (3, \"prepend\"),\n",
    "                   (0, \"append\"), (1, \"append\"), (2, \"append\"), (3, \"append\")]\n",
    "\n",
    "for n_debias_tokens, db_pos in db_tokensetting:\n",
    "    with torch.cuda.device(use_device_id):\n",
    "        model, preprocess, tokenizer, model_alias = src.models.DebiasCLIP.from_cfg(src.Dotdict({\n",
    "            \"CLIP_ARCH\": \"openai/CLIP/ViT-B/16\", \"DEVICE\": use_device, \"num_debias_tokens\": n_debias_tokens, \"debias_token_init\": \"zeros\", \"debias_pos\": db_pos\n",
    "        }))\n",
    "\n",
    "        for perf_eval in perf_evaluations:\n",
    "            perf_res = {\"debias_pos\": db_pos, \"n_tokz\": n_debias_tokens, \"model_name\": model_alias, \"dataset\": perf_eval, \"evaluation\": perf_eval, \"mean\": src.debias.run_perf_eval(perf_eval, model, tokenizer, preprocess, use_device)}\n",
    "            experiment_results = experiment_results.append(pd.DataFrame([perf_res]), ignore_index=True)\n",
    "    del model, preprocess, tokenizer, model_alias\n"
   ]
  },
  {
   "cell_type": "code",
   "execution_count": null,
   "metadata": {
    "pycharm": {
     "name": "#%%\n"
    }
   },
   "outputs": [],
   "source": [
    "display(experiment_results)\n"
   ]
  }
 ],
 "metadata": {
  "interpreter": {
   "hash": "f74b83fbac03ad89a07102ed67580a2c0f75e7387e9775635bfd4562de1558a5"
  },
  "kernelspec": {
   "display_name": "Python 3.9.5 64-bit ('bias-vision-language-yfXTBDV4': pipenv)",
   "language": "python",
   "name": "python3"
  },
  "language_info": {
   "codemirror_mode": {
    "name": "ipython",
    "version": 3
   },
   "file_extension": ".py",
   "mimetype": "text/x-python",
   "name": "python",
   "nbconvert_exporter": "python",
   "pygments_lexer": "ipython3",
   "version": "3.9.5"
  }
 },
 "nbformat": 4,
 "nbformat_minor": 2
}